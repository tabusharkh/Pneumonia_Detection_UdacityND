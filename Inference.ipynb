{
 "cells": [
  {
   "cell_type": "code",
   "execution_count": 1,
   "metadata": {},
   "outputs": [
    {
     "name": "stderr",
     "output_type": "stream",
     "text": [
      "Using TensorFlow backend.\n"
     ]
    }
   ],
   "source": [
    "import numpy as np\n",
    "import pandas as pd\n",
    "import pydicom\n",
    "%matplotlib inline\n",
    "import matplotlib.pyplot as plt\n",
    "import keras \n",
    "from skimage.transform import resize"
   ]
  },
  {
   "cell_type": "code",
   "execution_count": 2,
   "metadata": {},
   "outputs": [],
   "source": [
    "# This function reads in a .dcm file, checks the important fields for our device, and returns a numpy array\n",
    "# of just the imaging data\n",
    "def check_dicom(filename):\n",
    "    \n",
    "    # todo\n",
    "    \n",
    "    print('Load file {} ...'.format(filename))\n",
    "    ds = pydicom.dcmread(filename)\n",
    "    if ds.Modality != 'DX':\n",
    "        return None\n",
    "    if ds.PatientPosition != 'PA':\n",
    "        if ds.PatientPosition != 'AP':\n",
    "            return None\n",
    "    if ds.BodyPartExamined != 'CHEST':\n",
    "        return None\n",
    "    image = np.stack(ds.PixelData)\n",
    "    img = image.astype(np.int16)\n",
    "    return img/255.0\n",
    "    \n",
    "    \n",
    "# This function takes the numpy array output by check_dicom and \n",
    "# runs the appropriate pre-processing needed for our model input\n",
    "def preprocess_image(img,img_mean,img_std,img_size): \n",
    "    proc_img = (img - img_mean) / img_std\n",
    "    resized_img = resize(proc_img, img_size, preserve_range=True, anti_aliasing=False)\n",
    "    print('image shape: {}'.format(resized_img.shape))\n",
    "    #a = np.asarray(proc_img)\n",
    "    #image = Image.fromarray(a, mode = 'P')\n",
    "    #proc_img = image.resize(img_size) \n",
    "    img = resized_img.reshape(1,224,224,3)\n",
    "    return img\n",
    "\n",
    "# This function loads in our trained model w/ weights and compiles it \n",
    "def load_model(model_path, weight_path):\n",
    "    json_file = open(model_path, 'r')\n",
    "    loaded_model_json = json_file.read()\n",
    "    json_file.close()\n",
    "    model = keras.models.model_from_json(loaded_model_json)\n",
    "    # load weights into new model\n",
    "    model.load_weights(weight_path)\n",
    "    print(\"Loaded model from disk\")\n",
    " \n",
    "    # evaluate loaded model on test data\n",
    "    optimizer = keras.optimizers.Adam(lr=1e-4)\n",
    "    loss = 'binary_crossentropy'\n",
    "    metrics = ['binary_accuracy']\n",
    "    model.compile(loss=loss, optimizer=optimizer, metrics=metrics)    \n",
    "    \n",
    "    return model\n",
    "\n",
    "# This function uses our device's threshold parameters to predict whether or not\n",
    "# the image shows the presence of pneumonia using our trained model\n",
    "def predict_image(model, img, thresh): \n",
    "    y_pred = model.predict(img)\n",
    "    prediction = (y_pred > thresh)   \n",
    "    \n",
    "    return prediction "
   ]
  },
  {
   "cell_type": "code",
   "execution_count": 3,
   "metadata": {},
   "outputs": [
    {
     "name": "stdout",
     "output_type": "stream",
     "text": [
      "Loaded model from disk\n",
      "Load file test1.dcm ...\n",
      "image shape: (224, 224, 3)\n",
      "is pneumonia positive: [[ True]]\n",
      "Load file test2.dcm ...\n",
      "image shape: (224, 224, 3)\n",
      "is pneumonia positive: [[ True]]\n",
      "Load file test3.dcm ...\n",
      "image shape: (224, 224, 3)\n",
      "is pneumonia positive: [[ True]]\n",
      "Load file test4.dcm ...\n",
      "Load file test5.dcm ...\n",
      "Load file test6.dcm ...\n"
     ]
    }
   ],
   "source": [
    "test_dicoms = ['test1.dcm','test2.dcm','test3.dcm','test4.dcm','test5.dcm','test6.dcm']\n",
    "\n",
    "model_path = 'my_model.json'\n",
    "weight_path = 'xray_class_my_model.best.hdf5'\n",
    "\n",
    "IMG_SIZE=(224,224,3) # This might be different if you did not use vgg16\n",
    "img_mean = 0.492\n",
    "img_std = 0.244\n",
    "\n",
    "my_model = load_model(model_path, weight_path)\n",
    "thresh = 0.55 \n",
    "\n",
    "# use the .dcm files to test your prediction\n",
    "for i in test_dicoms:\n",
    "    \n",
    "    img = np.array([])\n",
    "    img = check_dicom(i)\n",
    "    \n",
    "    if img is None:\n",
    "        continue\n",
    "        \n",
    "    img_proc = preprocess_image(img,img_mean,img_std,IMG_SIZE)\n",
    "    pred = predict_image(my_model,img_proc,thresh)\n",
    "    print('is pneumonia positive: {}'.format(pred))"
   ]
  },
  {
   "cell_type": "code",
   "execution_count": null,
   "metadata": {},
   "outputs": [],
   "source": []
  },
  {
   "cell_type": "code",
   "execution_count": null,
   "metadata": {},
   "outputs": [],
   "source": []
  },
  {
   "cell_type": "code",
   "execution_count": null,
   "metadata": {},
   "outputs": [],
   "source": []
  },
  {
   "cell_type": "code",
   "execution_count": null,
   "metadata": {},
   "outputs": [],
   "source": []
  }
 ],
 "metadata": {
  "kernelspec": {
   "display_name": "Python 3",
   "language": "python",
   "name": "python3"
  },
  "language_info": {
   "codemirror_mode": {
    "name": "ipython",
    "version": 3
   },
   "file_extension": ".py",
   "mimetype": "text/x-python",
   "name": "python",
   "nbconvert_exporter": "python",
   "pygments_lexer": "ipython3",
   "version": "3.7.6"
  }
 },
 "nbformat": 4,
 "nbformat_minor": 2
}
